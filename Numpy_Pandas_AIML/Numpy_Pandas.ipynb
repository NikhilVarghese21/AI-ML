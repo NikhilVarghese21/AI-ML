{
 "cells": [
  {
   "cell_type": "markdown",
   "id": "01e5a0a2",
   "metadata": {},
   "source": [
    "# NUMPY / PANDAS ASSIGNMENT"
   ]
  },
  {
   "cell_type": "markdown",
   "id": "e0b48f83",
   "metadata": {},
   "source": [
    "## Q1. Replace all odd numbers in arr with -1 without changing arr"
   ]
  },
  {
   "cell_type": "code",
   "execution_count": 1,
   "id": "b0044105",
   "metadata": {},
   "outputs": [
    {
     "name": "stdout",
     "output_type": "stream",
     "text": [
      "Original Array:  [[0 1 2 3 4 5 6 7 8 9]]\n",
      "\n",
      "Array after replacing odd values with -1 :  [[ 0 -1  2 -1  4 -1  6 -1  8 -1]]\n",
      "\n",
      "Original Array:  [[0 1 2 3 4 5 6 7 8 9]]\n"
     ]
    }
   ],
   "source": [
    "import numpy as np\n",
    "\n",
    "original_array = np.array([[0, 1, 2, 3, 4, 5, 6, 7, 8, 9]])\n",
    "print(\"Original Array: \", original_array)\n",
    "\n",
    "# replacing odd values with -1\n",
    "changed_array = np.where(original_array % 2 == 1, -1, original_array)\n",
    "\n",
    "print(\"\\nArray after replacing odd values with -1 : \", changed_array)\n",
    "print(\"\\nOriginal Array: \", original_array)"
   ]
  },
  {
   "cell_type": "markdown",
   "id": "c2364cff",
   "metadata": {},
   "source": [
    "## Q2. Get the common items between two python numpy arrays"
   ]
  },
  {
   "cell_type": "code",
   "execution_count": 2,
   "id": "90183f5e",
   "metadata": {},
   "outputs": [
    {
     "data": {
      "text/plain": [
       "array([2, 4])"
      ]
     },
     "execution_count": 2,
     "metadata": {},
     "output_type": "execute_result"
    }
   ],
   "source": [
    "Input1 = np.array([1, 2, 3, 2, 3, 4, 3, 4, 5, 6])\n",
    "Input2 = np.array([7, 2, 10, 2, 7, 4, 9, 4, 9, 8])\n",
    "\n",
    "# retrieves common elements in Input1 and Input2.\n",
    "commonItems = np.intersect1d(Input1, Input2)\n",
    "commonItems"
   ]
  },
  {
   "cell_type": "markdown",
   "id": "be2b4040",
   "metadata": {},
   "source": [
    "## Q3. From array a remove all items present in array b"
   ]
  },
  {
   "cell_type": "code",
   "execution_count": 3,
   "id": "b1d03a39",
   "metadata": {},
   "outputs": [
    {
     "data": {
      "text/plain": [
       "array([1, 2, 3, 4])"
      ]
     },
     "execution_count": 3,
     "metadata": {},
     "output_type": "execute_result"
    }
   ],
   "source": [
    "num1 = np.array([1, 2, 3, 4, 5])\n",
    "num2 = np.array([5, 6, 7, 8, 9])\n",
    "\n",
    "# removing elements of num2 in num1.\n",
    "diff_num1 = np.setdiff1d(num1, num2)\n",
    "\n",
    "diff_num1"
   ]
  },
  {
   "cell_type": "markdown",
   "id": "4bd1be46",
   "metadata": {},
   "source": [
    "## Q4. Swap rows 1 and 2 in the array arr."
   ]
  },
  {
   "cell_type": "code",
   "execution_count": 4,
   "id": "78c35885",
   "metadata": {},
   "outputs": [
    {
     "name": "stdout",
     "output_type": "stream",
     "text": [
      "Original Array: \n",
      " [[0 1 2]\n",
      " [3 4 5]\n",
      " [6 7 8]]\n",
      "\n",
      "After Swapping Row 1 and Row 2 in arr: \n"
     ]
    },
    {
     "data": {
      "text/plain": [
       "array([[0, 1, 2],\n",
       "       [6, 7, 8],\n",
       "       [3, 4, 5]])"
      ]
     },
     "execution_count": 4,
     "metadata": {},
     "output_type": "execute_result"
    }
   ],
   "source": [
    "arr = np.arange(9).reshape(3, 3)\n",
    "print(\"Original Array: \\n\",arr)\n",
    "\n",
    "print(\"\\nAfter Swapping Row 1 and Row 2 in arr: \")\n",
    "\n",
    "swapped_rows_arr = arr[[0, 2, 1], :]\n",
    "swapped_rows_arr"
   ]
  },
  {
   "cell_type": "markdown",
   "id": "9bb42b3d",
   "metadata": {},
   "source": [
    "## Q5. Swap columns 1 and 2 in the array arr."
   ]
  },
  {
   "cell_type": "code",
   "execution_count": 5,
   "id": "c3d6f072",
   "metadata": {},
   "outputs": [
    {
     "name": "stdout",
     "output_type": "stream",
     "text": [
      "Original Array: \n",
      " [[0 1 2]\n",
      " [3 4 5]\n",
      " [6 7 8]]\n",
      "\n",
      "After Swapping Column 1 and Column 2 in arr: \n"
     ]
    },
    {
     "data": {
      "text/plain": [
       "array([[0, 2, 1],\n",
       "       [3, 5, 4],\n",
       "       [6, 8, 7]])"
      ]
     },
     "execution_count": 5,
     "metadata": {},
     "output_type": "execute_result"
    }
   ],
   "source": [
    "arr = np.arange(9).reshape(3, 3)\n",
    "print(\"Original Array: \\n\",arr)\n",
    "\n",
    "print(\"\\nAfter Swapping Column 1 and Column 2 in arr: \")\n",
    "\n",
    "swapped_arr = arr[:, [0, 2, 1]]\n",
    "swapped_arr"
   ]
  },
  {
   "cell_type": "markdown",
   "id": "dbcb7207",
   "metadata": {},
   "source": [
    "## Q6.\n",
    "###         a. Import the iris dataset keeping the text intact.\n",
    "###         b. Extract the text column “species” from the 1D iris imported in previous question."
   ]
  },
  {
   "cell_type": "code",
   "execution_count": 6,
   "id": "e08c4ae1",
   "metadata": {},
   "outputs": [
    {
     "name": "stdout",
     "output_type": "stream",
     "text": [
      "[[b'5.1' b'3.5' b'1.4' b'0.2' b'Iris-setosa']\n",
      " [b'4.9' b'3.0' b'1.4' b'0.2' b'Iris-setosa']\n",
      " [b'4.7' b'3.2' b'1.3' b'0.2' b'Iris-setosa']\n",
      " [b'4.6' b'3.1' b'1.5' b'0.2' b'Iris-setosa']\n",
      " [b'5.0' b'3.6' b'1.4' b'0.2' b'Iris-setosa']]\n",
      "\n",
      "Species Column:\n",
      " [b'Iris-setosa' b'Iris-setosa' b'Iris-setosa' b'Iris-setosa'\n",
      " b'Iris-setosa']\n"
     ]
    }
   ],
   "source": [
    "#dataset keeping the text intact\n",
    "iris = np.genfromtxt(\"iris.data\", delimiter=',', dtype='object')\n",
    "print(iris[:5])\n",
    "\n",
    "#Extracting 'species' column from dataset.\n",
    "species = np.array([row[4] for row in iris])\n",
    "print(\"\\nSpecies Column:\\n\",species[:5])\n"
   ]
  },
  {
   "cell_type": "markdown",
   "id": "b46115e2",
   "metadata": {},
   "source": [
    "## Q7. Import the csv data from here, you will see some missing data."
   ]
  },
  {
   "cell_type": "markdown",
   "id": "02b77b08",
   "metadata": {},
   "source": [
    "### a. Find out what percent of the sf_permit dataset is missing\n",
    "\n",
    "### b. Look at the columns Street Number Suffix and Zipcode from the sf_permits datasets. Both of these contain missing values. Which, if either, of these are missing because they don't exist? Which, if either, are missing because they weren't recorded?\n",
    "\n",
    "### c. Try removing all the rows from the sf_permits dataset that contain missing values. How many are left?\n",
    "\n",
    "### d. Now try removing all the columns with empty values. Now how much of your data is left?\n",
    "\n",
    "### e. Try replacing all the NaN's in the sf_permit data with the one that comes directly after it and then [replace all the remaining na's with 0]\n"
   ]
  },
  {
   "cell_type": "code",
   "execution_count": 7,
   "id": "b7b23dd1",
   "metadata": {},
   "outputs": [],
   "source": [
    "import pandas as pd\n",
    "# Reading Building_Permits.csv file\n",
    "sfPermits = pd.read_csv(\"Building_Permits.csv\", dtype='object')"
   ]
  },
  {
   "cell_type": "code",
   "execution_count": 8,
   "id": "17a2893f",
   "metadata": {},
   "outputs": [
    {
     "name": "stdout",
     "output_type": "stream",
     "text": [
      "The SF Permit dataset contains 26.26 % missing values.\n"
     ]
    }
   ],
   "source": [
    "# 7.a Part\n",
    "\n",
    "# total number of cells in dataframe\n",
    "totalCells = np.product(sfPermits.shape)\n",
    "\n",
    "# total number of missing values per column\n",
    "missingCount = sfPermits.isnull().sum()\n",
    "\n",
    "# total number of missing values in dataframe\n",
    "totalMissing = missingCount.sum()\n",
    "\n",
    "# percentage of missing values\n",
    "percentage = round(((totalMissing/totalCells) * 100), 2)\n",
    "print(\"The SF Permit dataset contains\", percentage, \"%\", \"missing values.\")"
   ]
  },
  {
   "cell_type": "code",
   "execution_count": 9,
   "id": "049b1a7b",
   "metadata": {},
   "outputs": [
    {
     "name": "stdout",
     "output_type": "stream",
     "text": [
      "Values Missing: \n",
      "Street Number Suffix    196684\n",
      "Zipcode                   1716\n",
      "dtype: int64\n",
      "\n",
      "Percent missing data in Street Number Suffix column = 98.89\n",
      "Percent missing data in Zipcode column = 0.86\n",
      "\n",
      "The missing values in Zipcode were not recorded as every address has zipcode.\n",
      "The values in Street Number Suffix are missing as they don't exist.\n"
     ]
    }
   ],
   "source": [
    "# 7.b Part\n",
    "\n",
    "print(\"Values Missing: \")\n",
    "print(missingCount[['Street Number Suffix', 'Zipcode']])\n",
    "\n",
    "StreetNoMissingPercentage = (round(((missingCount['Street Number Suffix'] / sfPermits.shape[0]) * 100), 2))\n",
    "ZipcodeMissingPercentage = (round(((missingCount['Zipcode'] / sfPermits.shape[0]) * 100), 2))\n",
    "\n",
    "print(\"\\nPercent missing data in Street Number Suffix column =\", StreetNoMissingPercentage)\n",
    "print(\"Percent missing data in Zipcode column =\", ZipcodeMissingPercentage)\n",
    "\n",
    "print(\"\\nThe missing values in Zipcode were not recorded as every address has zipcode.\")\n",
    "print(\"The values in Street Number Suffix are missing as they don't exist.\")"
   ]
  },
  {
   "cell_type": "code",
   "execution_count": 10,
   "id": "2c1b4ae6",
   "metadata": {},
   "outputs": [
    {
     "name": "stdout",
     "output_type": "stream",
     "text": [
      "Total Rows in Original Dataset: 198900\n",
      "Total Rows after NA's Dropped: 0\n"
     ]
    }
   ],
   "source": [
    "# 7.c Part\n",
    "\n",
    "print(\"Total Rows in Original Dataset:\", sfPermits.shape[0])\n",
    "\n",
    "sfPermitsCleanedRows = sfPermits.dropna(axis=0)\n",
    "print(\"Total Rows after NA's Dropped:\", sfPermitsCleanedRows.shape[0])"
   ]
  },
  {
   "cell_type": "code",
   "execution_count": 11,
   "id": "ca5d3db8",
   "metadata": {},
   "outputs": [
    {
     "name": "stdout",
     "output_type": "stream",
     "text": [
      "Total Columns in Original Dataset: 43\n",
      "Total Columns after NA's Dropped: 12\n"
     ]
    }
   ],
   "source": [
    "# 7.d Part\n",
    "\n",
    "print(\"Total Columns in Original Dataset:\", sfPermits.shape[1])\n",
    "sfPermitsCleanedColumns = sfPermits.dropna(axis=1)\n",
    "print(\"Total Columns after NA's Dropped:\", sfPermitsCleanedColumns.shape[1])"
   ]
  },
  {
   "cell_type": "code",
   "execution_count": 12,
   "id": "4ca8e551",
   "metadata": {},
   "outputs": [
    {
     "data": {
      "text/html": [
       "<div>\n",
       "<style scoped>\n",
       "    .dataframe tbody tr th:only-of-type {\n",
       "        vertical-align: middle;\n",
       "    }\n",
       "\n",
       "    .dataframe tbody tr th {\n",
       "        vertical-align: top;\n",
       "    }\n",
       "\n",
       "    .dataframe thead th {\n",
       "        text-align: right;\n",
       "    }\n",
       "</style>\n",
       "<table border=\"1\" class=\"dataframe\">\n",
       "  <thead>\n",
       "    <tr style=\"text-align: right;\">\n",
       "      <th></th>\n",
       "      <th>Permit Number</th>\n",
       "      <th>Permit Type</th>\n",
       "      <th>Permit Type Definition</th>\n",
       "      <th>Permit Creation Date</th>\n",
       "      <th>Block</th>\n",
       "      <th>Lot</th>\n",
       "      <th>Street Number</th>\n",
       "      <th>Street Number Suffix</th>\n",
       "      <th>Street Name</th>\n",
       "      <th>Street Suffix</th>\n",
       "      <th>...</th>\n",
       "      <th>Existing Construction Type</th>\n",
       "      <th>Existing Construction Type Description</th>\n",
       "      <th>Proposed Construction Type</th>\n",
       "      <th>Proposed Construction Type Description</th>\n",
       "      <th>Site Permit</th>\n",
       "      <th>Supervisor District</th>\n",
       "      <th>Neighborhoods - Analysis Boundaries</th>\n",
       "      <th>Zipcode</th>\n",
       "      <th>Location</th>\n",
       "      <th>Record ID</th>\n",
       "    </tr>\n",
       "  </thead>\n",
       "  <tbody>\n",
       "    <tr>\n",
       "      <th>0</th>\n",
       "      <td>201505065519</td>\n",
       "      <td>4</td>\n",
       "      <td>sign - erect</td>\n",
       "      <td>05/06/2015</td>\n",
       "      <td>0326</td>\n",
       "      <td>023</td>\n",
       "      <td>140</td>\n",
       "      <td>0</td>\n",
       "      <td>Ellis</td>\n",
       "      <td>St</td>\n",
       "      <td>...</td>\n",
       "      <td>3</td>\n",
       "      <td>constr type 3</td>\n",
       "      <td>0</td>\n",
       "      <td>0</td>\n",
       "      <td>0</td>\n",
       "      <td>3</td>\n",
       "      <td>Tenderloin</td>\n",
       "      <td>94102</td>\n",
       "      <td>(37.785719256680785, -122.40852313194863)</td>\n",
       "      <td>1380611233945</td>\n",
       "    </tr>\n",
       "    <tr>\n",
       "      <th>1</th>\n",
       "      <td>201604195146</td>\n",
       "      <td>4</td>\n",
       "      <td>sign - erect</td>\n",
       "      <td>04/19/2016</td>\n",
       "      <td>0306</td>\n",
       "      <td>007</td>\n",
       "      <td>440</td>\n",
       "      <td>0</td>\n",
       "      <td>Geary</td>\n",
       "      <td>St</td>\n",
       "      <td>...</td>\n",
       "      <td>3</td>\n",
       "      <td>constr type 3</td>\n",
       "      <td>0</td>\n",
       "      <td>0</td>\n",
       "      <td>0</td>\n",
       "      <td>3</td>\n",
       "      <td>Tenderloin</td>\n",
       "      <td>94102</td>\n",
       "      <td>(37.78733980600732, -122.41063199757738)</td>\n",
       "      <td>1420164406718</td>\n",
       "    </tr>\n",
       "    <tr>\n",
       "      <th>2</th>\n",
       "      <td>201605278609</td>\n",
       "      <td>3</td>\n",
       "      <td>additions alterations or repairs</td>\n",
       "      <td>05/27/2016</td>\n",
       "      <td>0595</td>\n",
       "      <td>203</td>\n",
       "      <td>1647</td>\n",
       "      <td>0</td>\n",
       "      <td>Pacific</td>\n",
       "      <td>Av</td>\n",
       "      <td>...</td>\n",
       "      <td>1</td>\n",
       "      <td>constr type 1</td>\n",
       "      <td>1</td>\n",
       "      <td>constr type 1</td>\n",
       "      <td>0</td>\n",
       "      <td>3</td>\n",
       "      <td>Russian Hill</td>\n",
       "      <td>94109</td>\n",
       "      <td>(37.7946573324287, -122.42232562979227)</td>\n",
       "      <td>1424856504716</td>\n",
       "    </tr>\n",
       "    <tr>\n",
       "      <th>3</th>\n",
       "      <td>201611072166</td>\n",
       "      <td>8</td>\n",
       "      <td>otc alterations permit</td>\n",
       "      <td>11/07/2016</td>\n",
       "      <td>0156</td>\n",
       "      <td>011</td>\n",
       "      <td>1230</td>\n",
       "      <td>0</td>\n",
       "      <td>Pacific</td>\n",
       "      <td>Av</td>\n",
       "      <td>...</td>\n",
       "      <td>5</td>\n",
       "      <td>wood frame (5)</td>\n",
       "      <td>5</td>\n",
       "      <td>wood frame (5)</td>\n",
       "      <td>0</td>\n",
       "      <td>3</td>\n",
       "      <td>Nob Hill</td>\n",
       "      <td>94109</td>\n",
       "      <td>(37.79595867909168, -122.41557405519474)</td>\n",
       "      <td>1443574295566</td>\n",
       "    </tr>\n",
       "    <tr>\n",
       "      <th>4</th>\n",
       "      <td>201611283529</td>\n",
       "      <td>6</td>\n",
       "      <td>demolitions</td>\n",
       "      <td>11/28/2016</td>\n",
       "      <td>0342</td>\n",
       "      <td>001</td>\n",
       "      <td>950</td>\n",
       "      <td>0</td>\n",
       "      <td>Market</td>\n",
       "      <td>St</td>\n",
       "      <td>...</td>\n",
       "      <td>3</td>\n",
       "      <td>constr type 3</td>\n",
       "      <td>5</td>\n",
       "      <td>wood frame (5)</td>\n",
       "      <td>0</td>\n",
       "      <td>6</td>\n",
       "      <td>Tenderloin</td>\n",
       "      <td>94102</td>\n",
       "      <td>(37.78315261897309, -122.40950883997789)</td>\n",
       "      <td>144548169992</td>\n",
       "    </tr>\n",
       "    <tr>\n",
       "      <th>...</th>\n",
       "      <td>...</td>\n",
       "      <td>...</td>\n",
       "      <td>...</td>\n",
       "      <td>...</td>\n",
       "      <td>...</td>\n",
       "      <td>...</td>\n",
       "      <td>...</td>\n",
       "      <td>...</td>\n",
       "      <td>...</td>\n",
       "      <td>...</td>\n",
       "      <td>...</td>\n",
       "      <td>...</td>\n",
       "      <td>...</td>\n",
       "      <td>...</td>\n",
       "      <td>...</td>\n",
       "      <td>...</td>\n",
       "      <td>...</td>\n",
       "      <td>...</td>\n",
       "      <td>...</td>\n",
       "      <td>...</td>\n",
       "      <td>...</td>\n",
       "    </tr>\n",
       "    <tr>\n",
       "      <th>198895</th>\n",
       "      <td>M862628</td>\n",
       "      <td>8</td>\n",
       "      <td>otc alterations permit</td>\n",
       "      <td>12/05/2017</td>\n",
       "      <td>0113</td>\n",
       "      <td>017A</td>\n",
       "      <td>1228</td>\n",
       "      <td>A</td>\n",
       "      <td>Montgomery</td>\n",
       "      <td>St</td>\n",
       "      <td>...</td>\n",
       "      <td>5</td>\n",
       "      <td>wood frame (5)</td>\n",
       "      <td>5</td>\n",
       "      <td>wood frame (5)</td>\n",
       "      <td>Y</td>\n",
       "      <td>4</td>\n",
       "      <td>Sunset/Parkside</td>\n",
       "      <td>94116</td>\n",
       "      <td>(37.74976582284573, -122.48824447038214)</td>\n",
       "      <td>1489337276729</td>\n",
       "    </tr>\n",
       "    <tr>\n",
       "      <th>198896</th>\n",
       "      <td>201712055595</td>\n",
       "      <td>8</td>\n",
       "      <td>otc alterations permit</td>\n",
       "      <td>12/05/2017</td>\n",
       "      <td>0271</td>\n",
       "      <td>014</td>\n",
       "      <td>580</td>\n",
       "      <td>A</td>\n",
       "      <td>Bush</td>\n",
       "      <td>St</td>\n",
       "      <td>...</td>\n",
       "      <td>5</td>\n",
       "      <td>wood frame (5)</td>\n",
       "      <td>5</td>\n",
       "      <td>wood frame (5)</td>\n",
       "      <td>Y</td>\n",
       "      <td>4</td>\n",
       "      <td>Sunset/Parkside</td>\n",
       "      <td>94116</td>\n",
       "      <td>(37.74976582284573, -122.48824447038214)</td>\n",
       "      <td>1489462354993</td>\n",
       "    </tr>\n",
       "    <tr>\n",
       "      <th>198897</th>\n",
       "      <td>M863507</td>\n",
       "      <td>8</td>\n",
       "      <td>otc alterations permit</td>\n",
       "      <td>12/06/2017</td>\n",
       "      <td>4318</td>\n",
       "      <td>019</td>\n",
       "      <td>1568</td>\n",
       "      <td>A</td>\n",
       "      <td>Indiana</td>\n",
       "      <td>St</td>\n",
       "      <td>...</td>\n",
       "      <td>5</td>\n",
       "      <td>wood frame (5)</td>\n",
       "      <td>5</td>\n",
       "      <td>wood frame (5)</td>\n",
       "      <td>Y</td>\n",
       "      <td>4</td>\n",
       "      <td>Sunset/Parkside</td>\n",
       "      <td>94116</td>\n",
       "      <td>(37.74976582284573, -122.48824447038214)</td>\n",
       "      <td>1489539379952</td>\n",
       "    </tr>\n",
       "    <tr>\n",
       "      <th>198898</th>\n",
       "      <td>M863747</td>\n",
       "      <td>8</td>\n",
       "      <td>otc alterations permit</td>\n",
       "      <td>12/06/2017</td>\n",
       "      <td>0298</td>\n",
       "      <td>029</td>\n",
       "      <td>795</td>\n",
       "      <td>A</td>\n",
       "      <td>Sutter</td>\n",
       "      <td>St</td>\n",
       "      <td>...</td>\n",
       "      <td>5</td>\n",
       "      <td>wood frame (5)</td>\n",
       "      <td>5</td>\n",
       "      <td>wood frame (5)</td>\n",
       "      <td>Y</td>\n",
       "      <td>4</td>\n",
       "      <td>Sunset/Parkside</td>\n",
       "      <td>94116</td>\n",
       "      <td>(37.74976582284573, -122.48824447038214)</td>\n",
       "      <td>1489608233656</td>\n",
       "    </tr>\n",
       "    <tr>\n",
       "      <th>198899</th>\n",
       "      <td>M864287</td>\n",
       "      <td>8</td>\n",
       "      <td>otc alterations permit</td>\n",
       "      <td>12/07/2017</td>\n",
       "      <td>0160</td>\n",
       "      <td>006</td>\n",
       "      <td>838</td>\n",
       "      <td>A</td>\n",
       "      <td>Pacific</td>\n",
       "      <td>Av</td>\n",
       "      <td>...</td>\n",
       "      <td>5</td>\n",
       "      <td>wood frame (5)</td>\n",
       "      <td>5</td>\n",
       "      <td>wood frame (5)</td>\n",
       "      <td>Y</td>\n",
       "      <td>4</td>\n",
       "      <td>Sunset/Parkside</td>\n",
       "      <td>94116</td>\n",
       "      <td>(37.74976582284573, -122.48824447038214)</td>\n",
       "      <td>1489796283803</td>\n",
       "    </tr>\n",
       "  </tbody>\n",
       "</table>\n",
       "<p>198900 rows × 43 columns</p>\n",
       "</div>"
      ],
      "text/plain": [
       "       Permit Number Permit Type            Permit Type Definition  \\\n",
       "0       201505065519           4                      sign - erect   \n",
       "1       201604195146           4                      sign - erect   \n",
       "2       201605278609           3  additions alterations or repairs   \n",
       "3       201611072166           8            otc alterations permit   \n",
       "4       201611283529           6                       demolitions   \n",
       "...              ...         ...                               ...   \n",
       "198895       M862628           8            otc alterations permit   \n",
       "198896  201712055595           8            otc alterations permit   \n",
       "198897       M863507           8            otc alterations permit   \n",
       "198898       M863747           8            otc alterations permit   \n",
       "198899       M864287           8            otc alterations permit   \n",
       "\n",
       "       Permit Creation Date Block   Lot Street Number Street Number Suffix  \\\n",
       "0                05/06/2015  0326   023           140                    0   \n",
       "1                04/19/2016  0306   007           440                    0   \n",
       "2                05/27/2016  0595   203          1647                    0   \n",
       "3                11/07/2016  0156   011          1230                    0   \n",
       "4                11/28/2016  0342   001           950                    0   \n",
       "...                     ...   ...   ...           ...                  ...   \n",
       "198895           12/05/2017  0113  017A          1228                    A   \n",
       "198896           12/05/2017  0271   014           580                    A   \n",
       "198897           12/06/2017  4318   019          1568                    A   \n",
       "198898           12/06/2017  0298   029           795                    A   \n",
       "198899           12/07/2017  0160   006           838                    A   \n",
       "\n",
       "       Street Name Street Suffix  ... Existing Construction Type  \\\n",
       "0            Ellis            St  ...                          3   \n",
       "1            Geary            St  ...                          3   \n",
       "2          Pacific            Av  ...                          1   \n",
       "3          Pacific            Av  ...                          5   \n",
       "4           Market            St  ...                          3   \n",
       "...            ...           ...  ...                        ...   \n",
       "198895  Montgomery            St  ...                          5   \n",
       "198896        Bush            St  ...                          5   \n",
       "198897     Indiana            St  ...                          5   \n",
       "198898      Sutter            St  ...                          5   \n",
       "198899     Pacific            Av  ...                          5   \n",
       "\n",
       "       Existing Construction Type Description Proposed Construction Type  \\\n",
       "0                               constr type 3                          0   \n",
       "1                               constr type 3                          0   \n",
       "2                               constr type 1                          1   \n",
       "3                              wood frame (5)                          5   \n",
       "4                               constr type 3                          5   \n",
       "...                                       ...                        ...   \n",
       "198895                         wood frame (5)                          5   \n",
       "198896                         wood frame (5)                          5   \n",
       "198897                         wood frame (5)                          5   \n",
       "198898                         wood frame (5)                          5   \n",
       "198899                         wood frame (5)                          5   \n",
       "\n",
       "       Proposed Construction Type Description Site Permit Supervisor District  \\\n",
       "0                                           0           0                   3   \n",
       "1                                           0           0                   3   \n",
       "2                               constr type 1           0                   3   \n",
       "3                              wood frame (5)           0                   3   \n",
       "4                              wood frame (5)           0                   6   \n",
       "...                                       ...         ...                 ...   \n",
       "198895                         wood frame (5)           Y                   4   \n",
       "198896                         wood frame (5)           Y                   4   \n",
       "198897                         wood frame (5)           Y                   4   \n",
       "198898                         wood frame (5)           Y                   4   \n",
       "198899                         wood frame (5)           Y                   4   \n",
       "\n",
       "       Neighborhoods - Analysis Boundaries Zipcode  \\\n",
       "0                               Tenderloin   94102   \n",
       "1                               Tenderloin   94102   \n",
       "2                             Russian Hill   94109   \n",
       "3                                 Nob Hill   94109   \n",
       "4                               Tenderloin   94102   \n",
       "...                                    ...     ...   \n",
       "198895                     Sunset/Parkside   94116   \n",
       "198896                     Sunset/Parkside   94116   \n",
       "198897                     Sunset/Parkside   94116   \n",
       "198898                     Sunset/Parkside   94116   \n",
       "198899                     Sunset/Parkside   94116   \n",
       "\n",
       "                                         Location      Record ID  \n",
       "0       (37.785719256680785, -122.40852313194863)  1380611233945  \n",
       "1        (37.78733980600732, -122.41063199757738)  1420164406718  \n",
       "2         (37.7946573324287, -122.42232562979227)  1424856504716  \n",
       "3        (37.79595867909168, -122.41557405519474)  1443574295566  \n",
       "4        (37.78315261897309, -122.40950883997789)   144548169992  \n",
       "...                                           ...            ...  \n",
       "198895   (37.74976582284573, -122.48824447038214)  1489337276729  \n",
       "198896   (37.74976582284573, -122.48824447038214)  1489462354993  \n",
       "198897   (37.74976582284573, -122.48824447038214)  1489539379952  \n",
       "198898   (37.74976582284573, -122.48824447038214)  1489608233656  \n",
       "198899   (37.74976582284573, -122.48824447038214)  1489796283803  \n",
       "\n",
       "[198900 rows x 43 columns]"
      ]
     },
     "execution_count": 12,
     "metadata": {},
     "output_type": "execute_result"
    }
   ],
   "source": [
    "# 7.e Part\n",
    "\n",
    "# replacing all the NaN's in the sf_permit data with the one that comes directly after it \n",
    "# and then replacing all the remaining na's with 0.\n",
    "\n",
    "sfPermitsCleaned = sfPermits.fillna(method='ffill', axis=0).fillna(\"0\")\n",
    "sfPermitsCleaned"
   ]
  }
 ],
 "metadata": {
  "kernelspec": {
   "display_name": "Python 3",
   "language": "python",
   "name": "python3"
  },
  "language_info": {
   "codemirror_mode": {
    "name": "ipython",
    "version": 3
   },
   "file_extension": ".py",
   "mimetype": "text/x-python",
   "name": "python",
   "nbconvert_exporter": "python",
   "pygments_lexer": "ipython3",
   "version": "3.8.5"
  }
 },
 "nbformat": 4,
 "nbformat_minor": 5
}
